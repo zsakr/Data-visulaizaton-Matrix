#%%
import pandas as pd
import numpy as np
import xlrd as xr
import xlwt as xw
from pandas import DataFrame
import openpyxl
import openpyxl as o
import pandas as pd
import numpy as np
import xlrd as xr
import xlwt as xw
from pandas import DataFrame
#create our variables to hold our excel file
exc_in = 'data .xlsx'
exc_out = '20190621. Data Base.xlsx'
#read file

wb = pd.read_excel(exc_in, sheet_name = 'Sheet1', header = None, index = 0, use_cols = [0] )

def append_df_to_excel(filename, df, sheet_name='Sheet1', startrow=None,
                       truncate_sheet=False, 
                       **to_excel_kwargs):
    """
    Append a DataFrame [df] to existing Excel file [filename]
    into [sheet_name] Sheet.
    If [filename] doesn't exist, then this function will create it.

    Parameters:
      filename : File path or existing ExcelWriter
                 (Example: '/path/to/file.xlsx')
      df : dataframe to save to workbook
      sheet_name : Name of sheet which will contain DataFrame.
                   (default: 'Sheet1')
      startrow : upper left cell row to dump data frame.
                 Per default (startrow=None) calculate the last row
                 in the existing DF and write to the next row...
      truncate_sheet : truncate (remove and recreate) [sheet_name]
                       before writing DataFrame to Excel file
      to_excel_kwargs : arguments which will be passed to `DataFrame.to_excel()`
                        [can be dictionary]

    Returns: None
    """
    from openpyxl import load_workbook
 
    import pandas as pd

    # ignore [engine] parameter if it was passed
    if 'engine' in to_excel_kwargs:
        to_excel_kwargs.pop('engine')

    writer = pd.ExcelWriter(filename, engine='openpyxl')

    # Python 2.x: define [FileNotFoundError] exception if it doesn't exist 
    try:
        FileNotFoundError
    except NameError:
        FileNotFoundError = IOError


    try:
        # try to open an existing workbook
        writer.book = load_workbook(filename)

        # get the last row in the existing Excel sheet
        # if it was not specified explicitly
        if startrow is None and sheet_name in writer.book.sheetnames:
            startrow = writer.book[sheet_name].max_row

        # truncate sheet
        if truncate_sheet and sheet_name in writer.book.sheetnames:
            # index of [sheet_name] sheet
            idx = writer.book.sheetnames.index(sheet_name)
            # remove [sheet_name]
            writer.book.remove(writer.book.worksheets[idx])
            # create an empty sheet [sheet_name] using old index
            writer.book.create_sheet(sheet_name, idx)

        # copy existing sheets
        writer.sheets = {ws.title:ws for ws in writer.book.worksheets}
    except FileNotFoundError:
        # file does not exist yet, we will create it
        pass

    if startrow is None:
        startrow = 0
        
        #################################

        #####################################
    # write out the new sheet
    df.to_excel(writer, sheet_name, startrow=startrow, **to_excel_kwargs)

    # save the workbook
    writer.save()
import openpyxl
import pandas as pd
import numpy as np
import xlrd as xr
import xlwt as xw
from pandas import DataFrame
#read file

wb = pd.read_excel(exc_in, sheet_name = 'Sheet1', header = None, index = 0)
inp = wb.replace(np.nan, '')
   # This section is sample code that creates a worbook in the current directory with 3 worksheets
#%%
df = pd.DataFrame(inp, columns=(1,2,3,4,5,6,7,8,9,10,11,12,13,14,15,16)).iloc[:]
df
#%%

writer = pd.ExcelWriter('test.xlsx', engine='xlsxwriter')
df.to_excel(writer, sheet_name='test_1', index=False)
wb  = writer.book
ws = writer.sheets['test_1']
writer.close()
# End of sample code that creates a worbook in the current directory with 3 worksheets

wb = openpyxl.load_workbook('test.xlsx')
ws_name_wanted = "test_1"
list_all_ws = wb.sheetnames
ws = wb['%s' % (ws_name_wanted)]
for row in ws.iter_rows():
    for cell in row:
        cell_value = cell.value
        new_col_loc = (chr(int(ord(cell.coordinate[0:1])) + 3))
        new_row_loc = cell.coordinate[1:]
        ws['%s%d' % (new_col_loc ,int(new_row_loc) + 4)] = cell_value
        ws['%s' % (cell.coordinate)] = ' '

append_df_to_excel(exc_out, df, index = None, header = None)
#%%

#%%

#%%

#%%

#%%

#%%
